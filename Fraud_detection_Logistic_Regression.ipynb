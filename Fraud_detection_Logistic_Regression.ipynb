{
  "nbformat": 4,
  "nbformat_minor": 0,
  "metadata": {
    "colab": {
      "name": "Fraud_detection_Logistic_Regression.ipynb",
      "provenance": [],
      "collapsed_sections": [
        "DEL_6s_DhfeS",
        "1OnMxbHhiAt0",
        "owBPsHBkiauj"
      ],
      "include_colab_link": true
    },
    "kernelspec": {
      "name": "python3",
      "display_name": "Python 3"
    },
    "language_info": {
      "name": "python"
    }
  },
  "cells": [
    {
      "cell_type": "markdown",
      "metadata": {
        "id": "view-in-github",
        "colab_type": "text"
      },
      "source": [
        "<a href=\"https://colab.research.google.com/github/preethamlv/TEAM-B1/blob/fraud-detection/FraudDetection/ML_models/Supervised_Learning/LogisticRegressionModel/Fraud_detection_Logistic_Regression.ipynb\" target=\"_parent\"><img src=\"https://colab.research.google.com/assets/colab-badge.svg\" alt=\"Open In Colab\"/></a>"
      ]
    },
    {
      "cell_type": "markdown",
      "metadata": {
        "id": "N1_AvCSFhFC_"
      },
      "source": [
        "# Topic - Applying Logistics Regression Algorithim on the dataset\n",
        "# Author-Subhankar Biswas\n",
        "# Data- 25/06/2021\n",
        "# Description - In this notebook we will implement Logistic Regression Algorithim on the Dataset and Analyse its results"
      ]
    },
    {
      "cell_type": "markdown",
      "metadata": {
        "id": "DEL_6s_DhfeS"
      },
      "source": [
        "# Mounting the Drive"
      ]
    },
    {
      "cell_type": "code",
      "metadata": {
        "colab": {
          "base_uri": "https://localhost:8080/"
        },
        "id": "oltnHUlzg3Bg",
        "outputId": "6671a102-56b9-4375-af46-7fe8673d65e2"
      },
      "source": [
        "from google.colab import drive\n",
        "drive.mount('/content/gdrive')"
      ],
      "execution_count": 2,
      "outputs": [
        {
          "output_type": "stream",
          "text": [
            "Mounted at /content/gdrive\n"
          ],
          "name": "stdout"
        }
      ]
    },
    {
      "cell_type": "markdown",
      "metadata": {
        "id": "ftjEqbeKh29y"
      },
      "source": [
        "# Importing Python libraries"
      ]
    },
    {
      "cell_type": "code",
      "metadata": {
        "id": "OUH4wpNEhpnm"
      },
      "source": [
        "import numpy as np\n",
        "import pandas as pd\n",
        "import seaborn as sns\n",
        "import matplotlib.pyplot as plt\n",
        "from collections import Counter\n",
        "from sklearn.linear_model import LogisticRegression\n",
        "from imblearn.under_sampling import RandomUnderSampler\n",
        "from sklearn.preprocessing import StandardScaler\n",
        "from sklearn.model_selection import train_test_split, GridSearchCV\n",
        "from sklearn.model_selection import RepeatedStratifiedKFold\n",
        "from imblearn.over_sampling import SMOTE\n",
        "from imblearn.under_sampling import RandomUnderSampler\n",
        "import joblib\n",
        "from sklearn.metrics import confusion_matrix,accuracy_score, roc_curve, auc,classification_report,roc_auc_score"
      ],
      "execution_count": 24,
      "outputs": []
    },
    {
      "cell_type": "code",
      "metadata": {
        "id": "ATYZe5cJk1xm"
      },
      "source": [
        ""
      ],
      "execution_count": null,
      "outputs": []
    },
    {
      "cell_type": "code",
      "metadata": {
        "id": "wOhDdPe5Jhez"
      },
      "source": [
        "import pandas as pd\n",
        "import numpy as np\n",
        "import seaborn as sns\n",
        "from sklearn.model_selection import GridSearchCV\n",
        "from sklearn.linear_model import LogisticRegression\n",
        "from sklearn.metrics import confusion_matrix, accuracy_score, auc,roc_auc_score,roc_curve,precision_recall_curve,jaccard_score,f1_score,classification_report\n",
        "from sklearn.neighbors import KNeighborsClassifier\n",
        "from sklearn.preprocessing import StandardScaler\n",
        "from collections import Counter\n",
        "from imblearn.over_sampling import SMOTE\n",
        "from imblearn.pipeline import Pipeline\n",
        "from imblearn.under_sampling import RandomUnderSampler\n",
        "from sklearn.svm import SVC\n",
        "import matplotlib.pyplot as plt\n",
        "from xgboost import XGBClassifier\n",
        "%matplotlib inline"
      ],
      "execution_count": null,
      "outputs": []
    },
    {
      "cell_type": "markdown",
      "metadata": {
        "id": "1OnMxbHhiAt0"
      },
      "source": [
        "# Importing test and train dataset"
      ]
    },
    {
      "cell_type": "code",
      "metadata": {
        "id": "GiHdbnulhp6K"
      },
      "source": [
        "data_train = pd.read_csv('/content/gdrive/MyDrive/MyTranscation/preprocessed_Traindata1.csv') #This is the train dataset"
      ],
      "execution_count": 3,
      "outputs": []
    },
    {
      "cell_type": "code",
      "metadata": {
        "id": "W-GKKgjOhqHl"
      },
      "source": [
        "data_test = pd.read_csv('/content/gdrive/MyDrive/MyTranscation/preprocessed_Testdata1.csv') #this is the test datasest"
      ],
      "execution_count": 4,
      "outputs": []
    },
    {
      "cell_type": "code",
      "metadata": {
        "colab": {
          "base_uri": "https://localhost:8080/"
        },
        "id": "C8wKPkr1p4Zm",
        "outputId": "f272e0bd-46ce-4025-a564-729125220836"
      },
      "source": [
        "data_test.columns #columns in the dataset"
      ],
      "execution_count": 5,
      "outputs": [
        {
          "output_type": "execute_result",
          "data": {
            "text/plain": [
              "Index(['Unnamed: 0', 'trans_date_trans_time', 'cc_num', 'merchant', 'category',\n",
              "       'amt', 'first', 'last', 'gender', 'street', 'city', 'state', 'zip',\n",
              "       'lat', 'long', 'city_pop', 'job', 'dob', 'trans_num', 'unix_time',\n",
              "       'merch_lat', 'merch_long', 'is_fraud', 'week_day', 'year_month', 'age',\n",
              "       'category_food_dining', 'category_gas_transport',\n",
              "       'category_grocery_net', 'category_grocery_pos',\n",
              "       'category_health_fitness', 'category_home', 'category_kids_pets',\n",
              "       'category_misc_net', 'category_misc_pos', 'category_personal_care',\n",
              "       'category_shopping_net', 'category_shopping_pos', 'category_travel',\n",
              "       'gender_M', 'week_day_Monday', 'week_day_Saturday', 'week_day_Sunday',\n",
              "       'week_day_Thursday', 'week_day_Tuesday', 'week_day_Wednesday', 'dist',\n",
              "       'val_aggr', 'trans_date', 'hist_trans_of_60d',\n",
              "       'hist_trans_of_60d_amt_avg', 'hist_trans_of_24H',\n",
              "       'hist_trans_of_24H_fraud', 'hist_trans_of_24H_avg', 'hist_trans_of_2H',\n",
              "       'trans_hour'],\n",
              "      dtype='object')"
            ]
          },
          "metadata": {
            "tags": []
          },
          "execution_count": 5
        }
      ]
    },
    {
      "cell_type": "markdown",
      "metadata": {
        "id": "owBPsHBkiauj"
      },
      "source": [
        "# Selecting specific features from them"
      ]
    },
    {
      "cell_type": "code",
      "metadata": {
        "id": "3gKYHkTqhqTS"
      },
      "source": [
        "#selecting few columns that are having high co relation with the is_fraud clumns\n",
        "\n",
        "cols = ['amt','trans_hour',\n",
        "       'age', 'category_food_dining', 'category_gas_transport',\n",
        "       'category_grocery_net', 'category_grocery_pos',\n",
        "       'category_health_fitness', 'category_home', 'category_kids_pets',\n",
        "       'category_misc_net', 'category_misc_pos', 'category_personal_care',\n",
        "       'category_shopping_net', 'category_shopping_pos', 'category_travel',\n",
        "       'gender_M','week_day_Monday', 'week_day_Saturday', 'week_day_Sunday',\n",
        "       'week_day_Thursday', 'week_day_Tuesday','dist','hist_trans_of_60d',\n",
        "       'hist_trans_of_60d_amt_avg', 'hist_trans_of_24H',\n",
        "       'hist_trans_of_24H_fraud','is_fraud','hist_trans_of_24H_avg']"
      ],
      "execution_count": 7,
      "outputs": []
    },
    {
      "cell_type": "code",
      "metadata": {
        "id": "oXJafTL2hqer"
      },
      "source": [
        "data_test=data_test[cols] "
      ],
      "execution_count": 8,
      "outputs": []
    },
    {
      "cell_type": "code",
      "metadata": {
        "id": "LBDTZVRZirvV"
      },
      "source": [
        "data_train = data_train[cols]"
      ],
      "execution_count": 9,
      "outputs": []
    },
    {
      "cell_type": "code",
      "metadata": {
        "id": "1S0Cw1I8iyfL"
      },
      "source": [
        "#splitting train data\n",
        "X_train,y_train = data_train.drop('is_fraud',1),data_train['is_fraud']"
      ],
      "execution_count": 10,
      "outputs": []
    },
    {
      "cell_type": "code",
      "metadata": {
        "id": "gtBgqZuQiyxc"
      },
      "source": [
        "#splitting the test data\n",
        "X_test,y_test = data_test.drop('is_fraud',1),data_test['is_fraud']"
      ],
      "execution_count": 11,
      "outputs": []
    },
    {
      "cell_type": "code",
      "metadata": {
        "colab": {
          "base_uri": "https://localhost:8080/"
        },
        "id": "sU4nqcRDKeV1",
        "outputId": "f3eb1aa3-152d-4f3f-b9b9-95e5db36a37f"
      },
      "source": [
        "len(X_train.columns)"
      ],
      "execution_count": 12,
      "outputs": [
        {
          "output_type": "execute_result",
          "data": {
            "text/plain": [
              "28"
            ]
          },
          "metadata": {
            "tags": []
          },
          "execution_count": 12
        }
      ]
    },
    {
      "cell_type": "code",
      "metadata": {
        "id": "RzCBYbDeKeTD"
      },
      "source": [
        ""
      ],
      "execution_count": null,
      "outputs": []
    },
    {
      "cell_type": "markdown",
      "metadata": {
        "id": "MQW3ehl4jLCS"
      },
      "source": [
        "# Analysing the Dataset"
      ]
    },
    {
      "cell_type": "code",
      "metadata": {
        "colab": {
          "base_uri": "https://localhost:8080/"
        },
        "id": "5eT8NS2ZizCK",
        "outputId": "4890282c-bdfc-454f-8a8e-a3f1c6018595"
      },
      "source": [
        "Counter(y_train) #count no of 1 and 0 in the is_fraud column "
      ],
      "execution_count": 13,
      "outputs": [
        {
          "output_type": "execute_result",
          "data": {
            "text/plain": [
              "Counter({0: 1289289, 1: 7506})"
            ]
          },
          "metadata": {
            "tags": []
          },
          "execution_count": 13
        }
      ]
    },
    {
      "cell_type": "code",
      "metadata": {
        "colab": {
          "base_uri": "https://localhost:8080/"
        },
        "id": "rP5p6mwDizZt",
        "outputId": "b53de8b6-1662-4133-e8a3-741752aa8bb2"
      },
      "source": [
        "X_train.dtypes #data types of the columns"
      ],
      "execution_count": 14,
      "outputs": [
        {
          "output_type": "execute_result",
          "data": {
            "text/plain": [
              "amt                          float64\n",
              "trans_hour                     int64\n",
              "age                          float64\n",
              "category_food_dining           int64\n",
              "category_gas_transport         int64\n",
              "category_grocery_net           int64\n",
              "category_grocery_pos           int64\n",
              "category_health_fitness        int64\n",
              "category_home                  int64\n",
              "category_kids_pets             int64\n",
              "category_misc_net              int64\n",
              "category_misc_pos              int64\n",
              "category_personal_care         int64\n",
              "category_shopping_net          int64\n",
              "category_shopping_pos          int64\n",
              "category_travel                int64\n",
              "gender_M                       int64\n",
              "week_day_Monday                int64\n",
              "week_day_Saturday              int64\n",
              "week_day_Sunday                int64\n",
              "week_day_Thursday              int64\n",
              "week_day_Tuesday               int64\n",
              "dist                         float64\n",
              "hist_trans_of_60d            float64\n",
              "hist_trans_of_60d_amt_avg    float64\n",
              "hist_trans_of_24H            float64\n",
              "hist_trans_of_24H_fraud      float64\n",
              "hist_trans_of_24H_avg        float64\n",
              "dtype: object"
            ]
          },
          "metadata": {
            "tags": []
          },
          "execution_count": 14
        }
      ]
    },
    {
      "cell_type": "code",
      "metadata": {
        "id": "guOmMXoWjsoS"
      },
      "source": [
        ""
      ],
      "execution_count": null,
      "outputs": []
    },
    {
      "cell_type": "markdown",
      "metadata": {
        "id": "wP0RAHaqjw_y"
      },
      "source": [
        "# Scaling the datasets"
      ]
    },
    {
      "cell_type": "code",
      "metadata": {
        "id": "wbrSQS5Tj0HE"
      },
      "source": [
        "scaler = StandardScaler() #importing standard scaler"
      ],
      "execution_count": 15,
      "outputs": []
    },
    {
      "cell_type": "code",
      "metadata": {
        "id": "5MksZht2dFYO"
      },
      "source": [
        ""
      ],
      "execution_count": null,
      "outputs": []
    },
    {
      "cell_type": "code",
      "metadata": {
        "id": "iADur_QTj0eV"
      },
      "source": [
        "#fitting train data to scaler and tranforming the test best on that \n",
        "X_train,X_test = scaler.fit_transform(X_train),scaler.transform(X_test) "
      ],
      "execution_count": 16,
      "outputs": []
    },
    {
      "cell_type": "code",
      "metadata": {
        "id": "0naII1oKj1FC",
        "colab": {
          "base_uri": "https://localhost:8080/"
        },
        "outputId": "2d096e2e-67cf-4ad6-c983-330d50fc1912"
      },
      "source": [
        "joblib.dump(scaler,'/content/scaler1.pkl') #saving the scaler model"
      ],
      "execution_count": null,
      "outputs": [
        {
          "output_type": "execute_result",
          "data": {
            "text/plain": [
              "['/content/scaler1.pkl']"
            ]
          },
          "metadata": {
            "tags": []
          },
          "execution_count": 54
        }
      ]
    },
    {
      "cell_type": "code",
      "metadata": {
        "id": "hj53gsgqj1Xn"
      },
      "source": [
        ""
      ],
      "execution_count": null,
      "outputs": []
    },
    {
      "cell_type": "markdown",
      "metadata": {
        "id": "wVwieF8DkcrG"
      },
      "source": [
        ""
      ]
    },
    {
      "cell_type": "markdown",
      "metadata": {
        "id": "HLu4GGtkqEoN"
      },
      "source": [
        "# Data Balancing using SMOTE"
      ]
    },
    {
      "cell_type": "code",
      "metadata": {
        "colab": {
          "base_uri": "https://localhost:8080/"
        },
        "id": "Zjd3Y3ExqIxJ",
        "outputId": "981e5791-26e7-4c93-88d2-bf31ad21ee0c"
      },
      "source": [
        "Counter(y_train)"
      ],
      "execution_count": null,
      "outputs": [
        {
          "output_type": "execute_result",
          "data": {
            "text/plain": [
              "Counter({0: 1289209, 1: 7506})"
            ]
          },
          "metadata": {
            "tags": []
          },
          "execution_count": 63
        }
      ]
    },
    {
      "cell_type": "code",
      "metadata": {
        "colab": {
          "base_uri": "https://localhost:8080/"
        },
        "id": "fgLDHcakrI6K",
        "outputId": "283bc7b9-c665-4bec-c9e5-02f58ead3d08"
      },
      "source": [
        "Counter(y_test)"
      ],
      "execution_count": null,
      "outputs": [
        {
          "output_type": "execute_result",
          "data": {
            "text/plain": [
              "Counter({0: 553622, 1: 2145})"
            ]
          },
          "metadata": {
            "tags": []
          },
          "execution_count": 64
        }
      ]
    },
    {
      "cell_type": "code",
      "metadata": {
        "colab": {
          "base_uri": "https://localhost:8080/",
          "height": 308
        },
        "id": "vArbh8qvqqVw",
        "outputId": "890674ac-b147-4fa1-e04c-b9e199722d32"
      },
      "source": [
        "plt.subplot(1,2,1)\n",
        "sns.countplot(x=\"is_fraud\",data=data_train)\n",
        "plt.subplot(1,2,2)\n",
        "sns.countplot(x=\"is_fraud\",data=data_test)"
      ],
      "execution_count": null,
      "outputs": [
        {
          "output_type": "execute_result",
          "data": {
            "text/plain": [
              "<matplotlib.axes._subplots.AxesSubplot at 0x7fa7e9330050>"
            ]
          },
          "metadata": {
            "tags": []
          },
          "execution_count": 66
        },
        {
          "output_type": "display_data",
          "data": {
            "image/png": "[encoded data removed]",
            "text/plain": [
              "<Figure size 432x288 with 2 Axes>"
            ]
          },
          "metadata": {
            "tags": [],
            "needs_background": "light"
          }
        }
      ]
    },
    {
      "cell_type": "markdown",
      "metadata": {
        "id": "v5XbFcXxrMZ7"
      },
      "source": [
        "we can see that both the test and train dataset are highly imbalanced"
      ]
    },
    {
      "cell_type": "code",
      "metadata": {
        "id": "niRbQWshqLAF"
      },
      "source": [
        "model = LogisticRegression(random_state=42)"
      ],
      "execution_count": 17,
      "outputs": []
    },
    {
      "cell_type": "code",
      "metadata": {
        "colab": {
          "base_uri": "https://localhost:8080/"
        },
        "id": "MDR4EDi2qLSI",
        "outputId": "d93cdaae-1432-4476-ee12-8c5e4df3e2f6"
      },
      "source": [
        "over = SMOTE(sampling_strategy=0.2)\n",
        "X_train_res,y_train_res = over.fit_sample(X_train,y_train.ravel())"
      ],
      "execution_count": 20,
      "outputs": [
        {
          "output_type": "stream",
          "text": [
            "/usr/local/lib/python3.7/dist-packages/sklearn/utils/deprecation.py:87: FutureWarning: Function safe_indexing is deprecated; safe_indexing is deprecated in version 0.22 and will be removed in version 0.24.\n",
            "  warnings.warn(msg, category=FutureWarning)\n"
          ],
          "name": "stderr"
        }
      ]
    },
    {
      "cell_type": "code",
      "metadata": {
        "colab": {
          "base_uri": "https://localhost:8080/"
        },
        "id": "t40shwg95mT1",
        "outputId": "54865eb3-2090-43c4-d4ef-6c2c16584e6a"
      },
      "source": [
        "Counter(y_train_res)"
      ],
      "execution_count": null,
      "outputs": [
        {
          "output_type": "execute_result",
          "data": {
            "text/plain": [
              "Counter({0: 1289209, 1: 257841})"
            ]
          },
          "metadata": {
            "tags": []
          },
          "execution_count": 71
        }
      ]
    },
    {
      "cell_type": "code",
      "metadata": {
        "id": "X72Ch9YLFY5A"
      },
      "source": [
        "logreg = LogisticRegression(C=0.01,penalty='l2',solver='liblinear')"
      ],
      "execution_count": 21,
      "outputs": []
    },
    {
      "cell_type": "markdown",
      "metadata": {
        "id": "IW5s0Nau54cx"
      },
      "source": [
        "Resampling the training set"
      ]
    },
    {
      "cell_type": "code",
      "metadata": {
        "colab": {
          "base_uri": "https://localhost:8080/"
        },
        "id": "ozYa2ZHSqMZd",
        "outputId": "15d0a17f-aa08-4088-ce55-0adad527025e"
      },
      "source": [
        "logreg.fit(X_train_res,y_train_res)"
      ],
      "execution_count": 22,
      "outputs": [
        {
          "output_type": "execute_result",
          "data": {
            "text/plain": [
              "LogisticRegression(C=0.01, class_weight=None, dual=False, fit_intercept=True,\n",
              "                   intercept_scaling=1, l1_ratio=None, max_iter=100,\n",
              "                   multi_class='auto', n_jobs=None, penalty='l2',\n",
              "                   random_state=None, solver='liblinear', tol=0.0001, verbose=0,\n",
              "                   warm_start=False)"
            ]
          },
          "metadata": {
            "tags": []
          },
          "execution_count": 22
        }
      ]
    },
    {
      "cell_type": "code",
      "metadata": {
        "id": "UwTKOMvZ6ewv"
      },
      "source": [
        "y_pred_res = logreg.predict(X_test)"
      ],
      "execution_count": 25,
      "outputs": []
    },
    {
      "cell_type": "code",
      "metadata": {
        "colab": {
          "base_uri": "https://localhost:8080/"
        },
        "id": "6KLpLXw86ezk",
        "outputId": "89fc3941-ddd4-41e4-e2f9-76b00d0a496e"
      },
      "source": [
        "accuracy_score(y_pred_res,y_test)"
      ],
      "execution_count": 26,
      "outputs": [
        {
          "output_type": "execute_result",
          "data": {
            "text/plain": [
              "0.9959720290791076"
            ]
          },
          "metadata": {
            "tags": []
          },
          "execution_count": 26
        }
      ]
    },
    {
      "cell_type": "code",
      "metadata": {
        "colab": {
          "base_uri": "https://localhost:8080/"
        },
        "id": "ehjSCMb16e3r",
        "outputId": "888fc555-86ee-4b92-b6e2-c94f5185007a"
      },
      "source": [
        "print(classification_report(y_test,y_pred_res))"
      ],
      "execution_count": 27,
      "outputs": [
        {
          "output_type": "stream",
          "text": [
            "              precision    recall  f1-score   support\n",
            "\n",
            "           0       1.00      1.00      1.00    553718\n",
            "           1       0.49      0.89      0.63      2145\n",
            "\n",
            "    accuracy                           1.00    555863\n",
            "   macro avg       0.74      0.94      0.81    555863\n",
            "weighted avg       1.00      1.00      1.00    555863\n",
            "\n"
          ],
          "name": "stdout"
        }
      ]
    },
    {
      "cell_type": "code",
      "metadata": {
        "colab": {
          "base_uri": "https://localhost:8080/"
        },
        "id": "Kao1EVFX7BHR",
        "outputId": "0216ed39-00d2-4b44-df1b-2fd76e08ac52"
      },
      "source": [
        "jaccard_score(y_pred_res,y_test)"
      ],
      "execution_count": null,
      "outputs": [
        {
          "output_type": "execute_result",
          "data": {
            "text/plain": [
              "0.4831718510963794"
            ]
          },
          "metadata": {
            "tags": []
          },
          "execution_count": 79
        }
      ]
    },
    {
      "cell_type": "code",
      "metadata": {
        "colab": {
          "base_uri": "https://localhost:8080/"
        },
        "id": "xdti3DIj7BKr",
        "outputId": "21ae00d4-ebfc-4020-d65c-4df6d9a2ac2d"
      },
      "source": [
        "print(confusion_matrix(y_test,y_pred_res))"
      ],
      "execution_count": 28,
      "outputs": [
        {
          "output_type": "stream",
          "text": [
            "[[551722   1996]\n",
            " [   243   1902]]\n"
          ],
          "name": "stdout"
        }
      ]
    },
    {
      "cell_type": "code",
      "metadata": {
        "id": "XCHZYfuB6e7H"
      },
      "source": [
        ""
      ],
      "execution_count": null,
      "outputs": []
    },
    {
      "cell_type": "markdown",
      "metadata": {
        "id": "P9vVAha7Px4O"
      },
      "source": [
        "# Over and under sampling"
      ]
    },
    {
      "cell_type": "code",
      "metadata": {
        "id": "HH6uVbHDP5UR"
      },
      "source": [
        "logreg_over_under = LogisticRegression(C=0.01,penalty='l2',solver='liblinear')"
      ],
      "execution_count": 39,
      "outputs": []
    },
    {
      "cell_type": "code",
      "metadata": {
        "colab": {
          "base_uri": "https://localhost:8080/"
        },
        "id": "p6Z-BK7rP5Xn",
        "outputId": "3e5a28de-2c34-4769-81f6-dd6c0aa864c0"
      },
      "source": [
        "X_train_over_under,y_train_over_under =under.fit_resample(X_train_res,y_train_res)"
      ],
      "execution_count": 40,
      "outputs": [
        {
          "output_type": "stream",
          "text": [
            "/usr/local/lib/python3.7/dist-packages/sklearn/utils/deprecation.py:87: FutureWarning: Function safe_indexing is deprecated; safe_indexing is deprecated in version 0.22 and will be removed in version 0.24.\n",
            "  warnings.warn(msg, category=FutureWarning)\n"
          ],
          "name": "stderr"
        }
      ]
    },
    {
      "cell_type": "code",
      "metadata": {
        "colab": {
          "base_uri": "https://localhost:8080/"
        },
        "id": "iDluqoyeP5bp",
        "outputId": "881a3ab2-57d4-43a7-dddf-1f99889eba85"
      },
      "source": [
        "Counter(y_train_over_under)"
      ],
      "execution_count": 41,
      "outputs": [
        {
          "output_type": "execute_result",
          "data": {
            "text/plain": [
              "Counter({0: 515714, 1: 257857})"
            ]
          },
          "metadata": {
            "tags": []
          },
          "execution_count": 41
        }
      ]
    },
    {
      "cell_type": "code",
      "metadata": {
        "colab": {
          "base_uri": "https://localhost:8080/"
        },
        "id": "UyriUbhpQDc5",
        "outputId": "77e7ac49-c2ec-452a-f534-6788ef33d4c4"
      },
      "source": [
        "logreg_over_under.fit(X_train_over_under,y_train_over_under)"
      ],
      "execution_count": 42,
      "outputs": [
        {
          "output_type": "execute_result",
          "data": {
            "text/plain": [
              "LogisticRegression(C=0.01, class_weight=None, dual=False, fit_intercept=True,\n",
              "                   intercept_scaling=1, l1_ratio=None, max_iter=100,\n",
              "                   multi_class='auto', n_jobs=None, penalty='l2',\n",
              "                   random_state=None, solver='liblinear', tol=0.0001, verbose=0,\n",
              "                   warm_start=False)"
            ]
          },
          "metadata": {
            "tags": []
          },
          "execution_count": 42
        }
      ]
    },
    {
      "cell_type": "code",
      "metadata": {
        "id": "zpY9zPGIQDYc"
      },
      "source": [
        "y_pred_over_under = logreg_over_under.predict(X_test)"
      ],
      "execution_count": 43,
      "outputs": []
    },
    {
      "cell_type": "code",
      "metadata": {
        "colab": {
          "base_uri": "https://localhost:8080/"
        },
        "id": "CZG1wGRfQDUC",
        "outputId": "63682b3e-8722-4c97-8d0d-1d47da9b68db"
      },
      "source": [
        "accuracy_score(y_test,y_pred_over_under)"
      ],
      "execution_count": 44,
      "outputs": [
        {
          "output_type": "execute_result",
          "data": {
            "text/plain": [
              "0.9931385971003647"
            ]
          },
          "metadata": {
            "tags": []
          },
          "execution_count": 44
        }
      ]
    },
    {
      "cell_type": "code",
      "metadata": {
        "id": "g7hYAZerQDDo",
        "colab": {
          "base_uri": "https://localhost:8080/"
        },
        "outputId": "c1304612-00c6-452d-b89d-7fb63dd1e069"
      },
      "source": [
        "print(classification_report(y_test,y_pred_over_under))"
      ],
      "execution_count": 46,
      "outputs": [
        {
          "output_type": "stream",
          "text": [
            "              precision    recall  f1-score   support\n",
            "\n",
            "           0       1.00      0.99      1.00    553718\n",
            "           1       0.35      0.93      0.51      2145\n",
            "\n",
            "    accuracy                           0.99    555863\n",
            "   macro avg       0.68      0.96      0.75    555863\n",
            "weighted avg       1.00      0.99      0.99    555863\n",
            "\n"
          ],
          "name": "stdout"
        }
      ]
    },
    {
      "cell_type": "code",
      "metadata": {
        "id": "s3pEC24kQDAA"
      },
      "source": [
        ""
      ],
      "execution_count": null,
      "outputs": []
    },
    {
      "cell_type": "markdown",
      "metadata": {
        "id": "NO9O2TQmqrfM"
      },
      "source": [
        "# UnderSampling Using Random UnderSampler"
      ]
    },
    {
      "cell_type": "code",
      "metadata": {
        "id": "o2JsRuaRsCkt"
      },
      "source": [
        "#doing under sampling using imblearn.RandomUnderSampler with sampling strategy 0.5 that will make 0 cols twince of 1s for is_fraus\n",
        "\n",
        "under = RandomUnderSampler(sampling_strategy=0.5)  \n"
      ],
      "execution_count": 29,
      "outputs": []
    },
    {
      "cell_type": "code",
      "metadata": {
        "colab": {
          "base_uri": "https://localhost:8080/"
        },
        "id": "AqzkitAEsC_v",
        "outputId": "9b71545b-d205-4143-8da5-055d3b1aee7d"
      },
      "source": [
        "#fitting the train data to under Sampler\n",
        "X_train_under,y_train_under =under.fit_resample(X_train,y_train)"
      ],
      "execution_count": 30,
      "outputs": [
        {
          "output_type": "stream",
          "text": [
            "/usr/local/lib/python3.7/dist-packages/sklearn/utils/deprecation.py:87: FutureWarning: Function safe_indexing is deprecated; safe_indexing is deprecated in version 0.22 and will be removed in version 0.24.\n",
            "  warnings.warn(msg, category=FutureWarning)\n"
          ],
          "name": "stderr"
        }
      ]
    },
    {
      "cell_type": "markdown",
      "metadata": {
        "id": "CUWdbQdu3tj7"
      },
      "source": [
        "# Under Sampeled Dataset Hyper Tunning"
      ]
    },
    {
      "cell_type": "code",
      "metadata": {
        "id": "BFiczWjQ31-E"
      },
      "source": [
        "#define a model\n",
        "model_under = LogisticRegression() \n",
        "\n",
        "#define grid params for different model parameters\n",
        "solvers = ['newton-cg', 'lbfgs', 'liblinear']\n",
        "penalty = ['l2']\n",
        "c_values = [100, 10, 1.0, 0.1, 0.01]\n",
        "\n",
        "# define grid search\n",
        "grid = dict(solver=solvers,penalty=penalty,C=c_values)\n",
        "cv = RepeatedStratifiedKFold(n_splits=10, n_repeats=3, random_state=1)\n",
        "grid_search = GridSearchCV(estimator=model, param_grid=grid, n_jobs=-1, cv=cv, scoring='accuracy',error_score=0)            "
      ],
      "execution_count": null,
      "outputs": []
    },
    {
      "cell_type": "code",
      "metadata": {
        "colab": {
          "base_uri": "https://localhost:8080/"
        },
        "id": "9g6lHrZS32XR",
        "outputId": "73f20d60-86e4-4c2f-c20b-d319fd70c823"
      },
      "source": [
        "#fitting the grid on the under sampled data\n",
        "grid_search.fit(X_train_over_under,y_train_over_under)"
      ],
      "execution_count": null,
      "outputs": [
        {
          "output_type": "execute_result",
          "data": {
            "text/plain": [
              "GridSearchCV(cv=RepeatedStratifiedKFold(n_repeats=3, n_splits=10, random_state=1),\n",
              "             error_score=0,\n",
              "             estimator=LogisticRegression(C=1.0, class_weight=None, dual=False,\n",
              "                                          fit_intercept=True,\n",
              "                                          intercept_scaling=1, l1_ratio=None,\n",
              "                                          max_iter=100, multi_class='auto',\n",
              "                                          n_jobs=None, penalty='l2',\n",
              "                                          random_state=42, solver='lbfgs',\n",
              "                                          tol=0.0001, verbose=0,\n",
              "                                          warm_start=False),\n",
              "             iid='deprecated', n_jobs=-1,\n",
              "             param_grid={'C': [100, 10, 1.0, 0.1, 0.01], 'penalty': ['l2'],\n",
              "                         'solver': ['newton-cg', 'lbfgs', 'liblinear']},\n",
              "             pre_dispatch='2*n_jobs', refit=True, return_train_score=False,\n",
              "             scoring='accuracy', verbose=0)"
            ]
          },
          "metadata": {
            "tags": []
          },
          "execution_count": 91
        }
      ]
    },
    {
      "cell_type": "code",
      "metadata": {
        "colab": {
          "base_uri": "https://localhost:8080/"
        },
        "id": "zG0YdipJ35z8",
        "outputId": "07adada8-a40b-410e-9969-4cfd2f43899b"
      },
      "source": [
        "#checkig the best parameters and the best score\n",
        "print(grid_search.best_params_)\n",
        "print(grid_search.best_score_)"
      ],
      "execution_count": null,
      "outputs": [
        {
          "output_type": "stream",
          "text": [
            "{'C': 100, 'penalty': 'l2', 'solver': 'newton-cg'}\n",
            "0.9695350582862866\n"
          ],
          "name": "stdout"
        }
      ]
    },
    {
      "cell_type": "code",
      "metadata": {
        "id": "FIyGrGyr36H5"
      },
      "source": [
        "#fittig the optimal params to the model\n",
        "\n",
        "lr_under = LogisticRegression(C= 100, penalty= 'l2', solver= 'newton-cg')"
      ],
      "execution_count": 31,
      "outputs": []
    },
    {
      "cell_type": "code",
      "metadata": {
        "colab": {
          "base_uri": "https://localhost:8080/"
        },
        "id": "Bh8MyEEo36l7",
        "outputId": "1b35abfe-910a-4e0b-cbd9-99cc37d25f0b"
      },
      "source": [
        "#training on the under sampled data\n",
        "\n",
        "lr_under.fit(X_train_under,y_train_under)"
      ],
      "execution_count": 32,
      "outputs": [
        {
          "output_type": "execute_result",
          "data": {
            "text/plain": [
              "LogisticRegression(C=100, class_weight=None, dual=False, fit_intercept=True,\n",
              "                   intercept_scaling=1, l1_ratio=None, max_iter=100,\n",
              "                   multi_class='auto', n_jobs=None, penalty='l2',\n",
              "                   random_state=None, solver='newton-cg', tol=0.0001, verbose=0,\n",
              "                   warm_start=False)"
            ]
          },
          "metadata": {
            "tags": []
          },
          "execution_count": 32
        }
      ]
    },
    {
      "cell_type": "code",
      "metadata": {
        "id": "j1tMbYke37kd"
      },
      "source": [
        "#predicting the data\n",
        "y_pred_under = lr_under.predict(X_test)"
      ],
      "execution_count": 33,
      "outputs": []
    },
    {
      "cell_type": "code",
      "metadata": {
        "colab": {
          "base_uri": "https://localhost:8080/"
        },
        "id": "NOm3tJlp38JG",
        "outputId": "e818e99f-eaac-4d48-8efc-638116e1ca3c"
      },
      "source": [
        "accuracy_score(y_test,y_pred_under)"
      ],
      "execution_count": 34,
      "outputs": [
        {
          "output_type": "execute_result",
          "data": {
            "text/plain": [
              "0.9936585093809086"
            ]
          },
          "metadata": {
            "tags": []
          },
          "execution_count": 34
        }
      ]
    },
    {
      "cell_type": "code",
      "metadata": {
        "colab": {
          "base_uri": "https://localhost:8080/",
          "height": 283
        },
        "id": "OKhvrzNa5MAe",
        "outputId": "15ff45ac-94cc-4b5f-f70f-d1c11d986b1f"
      },
      "source": [
        "sns.heatmap(confusion_matrix(y_test,y_pred_under),annot=True,fmt='d')"
      ],
      "execution_count": 36,
      "outputs": [
        {
          "output_type": "execute_result",
          "data": {
            "text/plain": [
              "<matplotlib.axes._subplots.AxesSubplot at 0x7f35930e82d0>"
            ]
          },
          "metadata": {
            "tags": []
          },
          "execution_count": 36
        },
        {
          "output_type": "display_data",
          "data": {
            "image/png": "[encoded data removed]",
            "text/plain": [
              "<Figure size 432x288 with 2 Axes>"
            ]
          },
          "metadata": {
            "tags": [],
            "needs_background": "light"
          }
        }
      ]
    },
    {
      "cell_type": "markdown",
      "metadata": {
        "id": "tnUAvcu75TjS"
      },
      "source": [
        "False Negetive Rate  is high so under sampling can be used"
      ]
    },
    {
      "cell_type": "code",
      "metadata": {
        "colab": {
          "base_uri": "https://localhost:8080/"
        },
        "id": "cCuqv-sJ5Mc4",
        "outputId": "2ad5cae5-cd35-43e2-ead9-f21524216a1b"
      },
      "source": [
        "print(classification_report(y_test,y_pred_under))"
      ],
      "execution_count": 38,
      "outputs": [
        {
          "output_type": "stream",
          "text": [
            "              precision    recall  f1-score   support\n",
            "\n",
            "           0       1.00      0.99      1.00    553718\n",
            "           1       0.37      0.93      0.53      2145\n",
            "\n",
            "    accuracy                           0.99    555863\n",
            "   macro avg       0.69      0.96      0.76    555863\n",
            "weighted avg       1.00      0.99      1.00    555863\n",
            "\n"
          ],
          "name": "stdout"
        }
      ]
    },
    {
      "cell_type": "markdown",
      "metadata": {
        "id": "2-f9WSMR6H0a"
      },
      "source": [
        "Bad Recall value so model not acceptable"
      ]
    },
    {
      "cell_type": "code",
      "metadata": {
        "id": "r5bPnS6F5q0P"
      },
      "source": [
        ""
      ],
      "execution_count": null,
      "outputs": []
    },
    {
      "cell_type": "code",
      "metadata": {
        "id": "IDR6JZKK5rPv"
      },
      "source": [
        ""
      ],
      "execution_count": null,
      "outputs": []
    },
    {
      "cell_type": "markdown",
      "metadata": {
        "id": "Y0_09dBNkPp8"
      },
      "source": [
        "# Tunning the hyperParameter of Logistic Regression\n",
        "\n"
      ]
    },
    {
      "cell_type": "code",
      "metadata": {
        "id": "2SLa4pxNkwwL"
      },
      "source": [
        "#defining the model\n",
        "model = LogisticRegression()\n",
        "\n",
        "#defining list of diferent model params to be used in the grid search\n",
        "solvers = ['newton-cg', 'lbfgs', 'liblinear']\n",
        "penalty = ['l2']\n",
        "c_values = [100, 10, 1.0, 0.1, 0.01]\n",
        "\n",
        "# define grid search\n",
        "grid = dict(solver=solvers,penalty=penalty,C=c_values)\n",
        "cv = RepeatedStratifiedKFold(n_splits=10, n_repeats=3, random_state=1)\n",
        "grid_search = GridSearchCV(estimator=model, param_grid=grid, n_jobs=-1, cv=cv, scoring='accuracy',error_score=0)            "
      ],
      "execution_count": null,
      "outputs": []
    },
    {
      "cell_type": "code",
      "metadata": {
        "id": "LGauWfEaIXe0"
      },
      "source": [
        "#fitting the grid on the imbalanced data\n",
        "grid_search.fit(X_train,y_train)"
      ],
      "execution_count": null,
      "outputs": []
    },
    {
      "cell_type": "code",
      "metadata": {
        "colab": {
          "base_uri": "https://localhost:8080/"
        },
        "id": "lEud6R2Ik-XU",
        "outputId": "3489a80b-8df1-4762-853f-b22f26d293d1"
      },
      "source": [
        "#best params for the best accuracy score\n",
        "print(grid_search.best_params_)\n",
        "print(grid_search.best_score_)"
      ],
      "execution_count": null,
      "outputs": [
        {
          "output_type": "stream",
          "text": [
            "{'C': 0.01, 'penalty': 'l2', 'solver': 'liblinear'}\n",
            "0.9987923329534113\n"
          ],
          "name": "stdout"
        }
      ]
    },
    {
      "cell_type": "code",
      "metadata": {
        "id": "fTmkJXM3NMTx"
      },
      "source": [
        "#setting the best parameters\n",
        "lr = LogisticRegression(C=0.01,penalty='l2',solver='liblinear')"
      ],
      "execution_count": null,
      "outputs": []
    },
    {
      "cell_type": "code",
      "metadata": {
        "id": "8VcR0RZcKPjG"
      },
      "source": [
        ""
      ],
      "execution_count": null,
      "outputs": []
    },
    {
      "cell_type": "code",
      "metadata": {
        "colab": {
          "base_uri": "https://localhost:8080/"
        },
        "id": "Xw-q8OEhmlpt",
        "outputId": "45430f07-517c-4127-82b2-4a320f9d3361"
      },
      "source": [
        "#training the logistic regression model\n",
        "lr.fit(X_train,y_train)"
      ],
      "execution_count": null,
      "outputs": [
        {
          "output_type": "execute_result",
          "data": {
            "text/plain": [
              "LogisticRegression(C=0.01, class_weight=None, dual=False, fit_intercept=True,\n",
              "                   intercept_scaling=1, l1_ratio=None, max_iter=100,\n",
              "                   multi_class='auto', n_jobs=None, penalty='l2',\n",
              "                   random_state=None, solver='liblinear', tol=0.0001, verbose=0,\n",
              "                   warm_start=False)"
            ]
          },
          "metadata": {
            "tags": []
          },
          "execution_count": 56
        }
      ]
    },
    {
      "cell_type": "code",
      "metadata": {
        "id": "25wITudBml3q"
      },
      "source": [
        "#predicting the result\n",
        "y_pred = lr.predict(X_test)"
      ],
      "execution_count": null,
      "outputs": []
    },
    {
      "cell_type": "code",
      "metadata": {
        "colab": {
          "base_uri": "https://localhost:8080/"
        },
        "id": "zY3OOji-mmJC",
        "outputId": "49fef826-edbb-4518-ebc8-24c4dba612a5"
      },
      "source": [
        "accuracy_score(y_test,y_pred)"
      ],
      "execution_count": null,
      "outputs": [
        {
          "output_type": "execute_result",
          "data": {
            "text/plain": [
              "0.9992784746125625"
            ]
          },
          "metadata": {
            "tags": []
          },
          "execution_count": 60
        }
      ]
    },
    {
      "cell_type": "code",
      "metadata": {
        "colab": {
          "base_uri": "https://localhost:8080/",
          "height": 282
        },
        "id": "YwCscX_ommZE",
        "outputId": "41bf8004-20d9-4aa5-85e0-1b4bc41c29ee"
      },
      "source": [
        "sns.heatmap(confusion_matrix(y_test,y_pred),annot=True,fmt='d')"
      ],
      "execution_count": null,
      "outputs": [
        {
          "output_type": "execute_result",
          "data": {
            "text/plain": [
              "<matplotlib.axes._subplots.AxesSubplot at 0x7fa7e0772fd0>"
            ]
          },
          "metadata": {
            "tags": []
          },
          "execution_count": 61
        },
        {
          "output_type": "display_data",
          "data": {
            "image/png": "[encoded data removed]",
            "text/plain": [
              "<Figure size 432x288 with 2 Axes>"
            ]
          },
          "metadata": {
            "tags": [],
            "needs_background": "light"
          }
        }
      ]
    },
    {
      "cell_type": "markdown",
      "metadata": {
        "id": "cz_F0Zin5tbL"
      },
      "source": [
        "very high False Positive Rate so model is not good to go with"
      ]
    },
    {
      "cell_type": "code",
      "metadata": {
        "colab": {
          "base_uri": "https://localhost:8080/"
        },
        "id": "junKVzj3oK2t",
        "outputId": "61b753c8-ec9b-4206-f304-989a353311be"
      },
      "source": [
        "print(classification_report(y_pred,y_test))"
      ],
      "execution_count": null,
      "outputs": [
        {
          "output_type": "stream",
          "text": [
            "              precision    recall  f1-score   support\n",
            "\n",
            "           0       1.00      1.00      1.00    554003\n",
            "           1       0.82      0.99      0.90      1764\n",
            "\n",
            "    accuracy                           1.00    555767\n",
            "   macro avg       0.91      1.00      0.95    555767\n",
            "weighted avg       1.00      1.00      1.00    555767\n",
            "\n"
          ],
          "name": "stdout"
        }
      ]
    },
    {
      "cell_type": "code",
      "metadata": {
        "colab": {
          "base_uri": "https://localhost:8080/",
          "height": 279
        },
        "id": "m4ct3lx0oLKT",
        "outputId": "3500f623-995a-461a-c780-55b656b2f688"
      },
      "source": [
        "#plotting the roc curve y axis is True positive rate x axis as false positive rate\n",
        "\n",
        "y_pred_probability = lr.predict_proba(X_test)[::,1]\n",
        "fpr, tpr, _ = roc_curve(y_test, y_pred_probability)\n",
        "auc = roc_auc_score(y_test, y_pred)\n",
        "plt.plot(fpr,tpr,label=\"LogisticRegression, auc=\"+str(auc))\n",
        "plt.ylabel('TP Rate')\n",
        "plt.xlabel('FP Rate')\n",
        "plt.legend(loc=4)\n",
        "plt.show()"
      ],
      "execution_count": null,
      "outputs": [
        {
          "output_type": "display_data",
          "data": {
            "image/png": "[encoded data removed]",
            "text/plain": [
              "<Figure size 432x288 with 1 Axes>"
            ]
          },
          "metadata": {
            "tags": [],
            "needs_background": "light"
          }
        }
      ]
    },
    {
      "cell_type": "markdown",
      "metadata": {
        "id": "cHLlyw0q6ymZ"
      },
      "source": [
        "ACUROC Curve is showing a high area"
      ]
    },
    {
      "cell_type": "code",
      "metadata": {
        "id": "Hfk1FXghGEm3"
      },
      "source": [
        ""
      ],
      "execution_count": null,
      "outputs": []
    },
    {
      "cell_type": "markdown",
      "metadata": {
        "id": "swT7XopH7HP7"
      },
      "source": [
        "# Exporting the Model in .pkl format"
      ]
    },
    {
      "cell_type": "code",
      "metadata": {
        "colab": {
          "base_uri": "https://localhost:8080/"
        },
        "id": "SgffvwxV7smM",
        "outputId": "d40fbe7b-dcb6-461c-9f5e-d1263b312d6d"
      },
      "source": [
        "#savig the model using joblib\n",
        "\n",
        "joblib.dump(lr,'/content/LogisticRegressionModel1.pkl')"
      ],
      "execution_count": null,
      "outputs": [
        {
          "output_type": "execute_result",
          "data": {
            "text/plain": [
              "['/content/LogisticRegressionModel1.pkl']"
            ]
          },
          "metadata": {
            "tags": []
          },
          "execution_count": 59
        }
      ]
    },
    {
      "cell_type": "code",
      "metadata": {
        "id": "C-jxgU3Lavvi"
      },
      "source": [
        ""
      ],
      "execution_count": null,
      "outputs": []
    },
    {
      "cell_type": "markdown",
      "metadata": {
        "id": "Qn4ebql-15rt"
      },
      "source": [
        "# Training on the Concatinated Dataset "
      ]
    },
    {
      "cell_type": "markdown",
      "metadata": {
        "id": "Z0L4ceAd2ewI"
      },
      "source": [
        "# Loading the train dataset"
      ]
    },
    {
      "cell_type": "code",
      "metadata": {
        "id": "fY4piG9j2hv9"
      },
      "source": [
        "df_concat = pd.read_csv('/content/gdrive/MyDrive/Transaction data/Copy of preprocessed_Traindata.csv')"
      ],
      "execution_count": null,
      "outputs": []
    },
    {
      "cell_type": "code",
      "metadata": {
        "colab": {
          "base_uri": "https://localhost:8080/"
        },
        "id": "HhC2zHBT2pu9",
        "outputId": "e37968fd-c2cf-48b6-c439-a70c18adc707"
      },
      "source": [
        "len(df_concat)"
      ],
      "execution_count": null,
      "outputs": [
        {
          "output_type": "execute_result",
          "data": {
            "text/plain": [
              "1296715"
            ]
          },
          "metadata": {
            "tags": []
          },
          "execution_count": 21
        }
      ]
    },
    {
      "cell_type": "code",
      "metadata": {
        "colab": {
          "base_uri": "https://localhost:8080/",
          "height": 513
        },
        "id": "OspjLjuE2qQ_",
        "outputId": "77095e2c-464e-4006-9e93-d6dd67894505"
      },
      "source": [
        "df_concat.head()"
      ],
      "execution_count": null,
      "outputs": [
        {
          "output_type": "execute_result",
          "data": {
            "text/html": [
              "<div>\n",
              "<style scoped>\n",
              "    .dataframe tbody tr th:only-of-type {\n",
              "        vertical-align: middle;\n",
              "    }\n",
              "\n",
              "    .dataframe tbody tr th {\n",
              "        vertical-align: top;\n",
              "    }\n",
              "\n",
              "    .dataframe thead th {\n",
              "        text-align: right;\n",
              "    }\n",
              "</style>\n",
              "<table border=\"1\" class=\"dataframe\">\n",
              "  <thead>\n",
              "    <tr style=\"text-align: right;\">\n",
              "      <th></th>\n",
              "      <th>Unnamed: 0</th>\n",
              "      <th>trans_date_trans_time</th>\n",
              "      <th>cc_num</th>\n",
              "      <th>merchant</th>\n",
              "      <th>category</th>\n",
              "      <th>amt</th>\n",
              "      <th>first</th>\n",
              "      <th>last</th>\n",
              "      <th>gender</th>\n",
              "      <th>street</th>\n",
              "      <th>city</th>\n",
              "      <th>state</th>\n",
              "      <th>zip</th>\n",
              "      <th>lat</th>\n",
              "      <th>long</th>\n",
              "      <th>city_pop</th>\n",
              "      <th>job</th>\n",
              "      <th>dob</th>\n",
              "      <th>trans_num</th>\n",
              "      <th>unix_time</th>\n",
              "      <th>merch_lat</th>\n",
              "      <th>merch_long</th>\n",
              "      <th>is_fraud</th>\n",
              "      <th>week_day</th>\n",
              "      <th>year_month</th>\n",
              "      <th>age</th>\n",
              "      <th>category_food_dining</th>\n",
              "      <th>category_gas_transport</th>\n",
              "      <th>category_grocery_net</th>\n",
              "      <th>category_grocery_pos</th>\n",
              "      <th>category_health_fitness</th>\n",
              "      <th>category_home</th>\n",
              "      <th>category_kids_pets</th>\n",
              "      <th>category_misc_net</th>\n",
              "      <th>category_misc_pos</th>\n",
              "      <th>category_personal_care</th>\n",
              "      <th>category_shopping_net</th>\n",
              "      <th>category_shopping_pos</th>\n",
              "      <th>category_travel</th>\n",
              "      <th>gender_M</th>\n",
              "      <th>week_day_Monday</th>\n",
              "      <th>week_day_Saturday</th>\n",
              "      <th>week_day_Sunday</th>\n",
              "      <th>week_day_Thursday</th>\n",
              "      <th>week_day_Tuesday</th>\n",
              "      <th>week_day_Wednesday</th>\n",
              "      <th>dist</th>\n",
              "      <th>val_aggr</th>\n",
              "      <th>trans_date</th>\n",
              "      <th>hist_trans_of_60d</th>\n",
              "      <th>hist_trans_of_60d_amt_avg</th>\n",
              "      <th>hist_trans_of_24H</th>\n",
              "      <th>hist_trans_of_24H_fraud</th>\n",
              "      <th>hist_trans_of_2H</th>\n",
              "      <th>trans_hour</th>\n",
              "    </tr>\n",
              "  </thead>\n",
              "  <tbody>\n",
              "    <tr>\n",
              "      <th>0</th>\n",
              "      <td>0</td>\n",
              "      <td>2019-01-01 00:00:18</td>\n",
              "      <td>2703186189652095</td>\n",
              "      <td>fraud_Rippin, Kub and Mann</td>\n",
              "      <td>misc_net</td>\n",
              "      <td>4.97</td>\n",
              "      <td>Jennifer</td>\n",
              "      <td>Banks</td>\n",
              "      <td>F</td>\n",
              "      <td>561 Perry Cove</td>\n",
              "      <td>Moravian Falls</td>\n",
              "      <td>NC</td>\n",
              "      <td>28654</td>\n",
              "      <td>36.0788</td>\n",
              "      <td>-81.1781</td>\n",
              "      <td>3495</td>\n",
              "      <td>Psychologist, counselling</td>\n",
              "      <td>1988-03-09 00:00:00</td>\n",
              "      <td>0b242abb623afc578575680df30655b9</td>\n",
              "      <td>1325376018</td>\n",
              "      <td>36.011293</td>\n",
              "      <td>-82.048315</td>\n",
              "      <td>0</td>\n",
              "      <td>Tuesday</td>\n",
              "      <td>2019-01</td>\n",
              "      <td>31.0</td>\n",
              "      <td>0</td>\n",
              "      <td>0</td>\n",
              "      <td>0</td>\n",
              "      <td>0</td>\n",
              "      <td>0</td>\n",
              "      <td>0</td>\n",
              "      <td>0</td>\n",
              "      <td>1</td>\n",
              "      <td>0</td>\n",
              "      <td>0</td>\n",
              "      <td>0</td>\n",
              "      <td>0</td>\n",
              "      <td>0</td>\n",
              "      <td>0</td>\n",
              "      <td>0</td>\n",
              "      <td>0</td>\n",
              "      <td>0</td>\n",
              "      <td>0</td>\n",
              "      <td>1</td>\n",
              "      <td>0</td>\n",
              "      <td>5769.599637</td>\n",
              "      <td>1</td>\n",
              "      <td>2019-01-01</td>\n",
              "      <td>1.0</td>\n",
              "      <td>4.970000</td>\n",
              "      <td>6.0</td>\n",
              "      <td>0.0</td>\n",
              "      <td>0.0</td>\n",
              "      <td>0</td>\n",
              "    </tr>\n",
              "    <tr>\n",
              "      <th>1</th>\n",
              "      <td>1</td>\n",
              "      <td>2019-01-01 00:00:44</td>\n",
              "      <td>630423337322</td>\n",
              "      <td>fraud_Heller, Gutmann and Zieme</td>\n",
              "      <td>grocery_pos</td>\n",
              "      <td>107.23</td>\n",
              "      <td>Stephanie</td>\n",
              "      <td>Gill</td>\n",
              "      <td>F</td>\n",
              "      <td>43039 Riley Greens Suite 393</td>\n",
              "      <td>Orient</td>\n",
              "      <td>WA</td>\n",
              "      <td>99160</td>\n",
              "      <td>48.8878</td>\n",
              "      <td>-118.2105</td>\n",
              "      <td>149</td>\n",
              "      <td>Special educational needs teacher</td>\n",
              "      <td>1978-06-21 00:00:00</td>\n",
              "      <td>1f76529f8574734946361c461b024d99</td>\n",
              "      <td>1325376044</td>\n",
              "      <td>49.159047</td>\n",
              "      <td>-118.186462</td>\n",
              "      <td>0</td>\n",
              "      <td>Tuesday</td>\n",
              "      <td>2019-01</td>\n",
              "      <td>41.0</td>\n",
              "      <td>0</td>\n",
              "      <td>0</td>\n",
              "      <td>0</td>\n",
              "      <td>1</td>\n",
              "      <td>0</td>\n",
              "      <td>0</td>\n",
              "      <td>0</td>\n",
              "      <td>0</td>\n",
              "      <td>0</td>\n",
              "      <td>0</td>\n",
              "      <td>0</td>\n",
              "      <td>0</td>\n",
              "      <td>0</td>\n",
              "      <td>0</td>\n",
              "      <td>0</td>\n",
              "      <td>0</td>\n",
              "      <td>0</td>\n",
              "      <td>0</td>\n",
              "      <td>1</td>\n",
              "      <td>0</td>\n",
              "      <td>5254.925202</td>\n",
              "      <td>1</td>\n",
              "      <td>2019-01-01</td>\n",
              "      <td>1.0</td>\n",
              "      <td>47.488421</td>\n",
              "      <td>1.0</td>\n",
              "      <td>0.0</td>\n",
              "      <td>0.0</td>\n",
              "      <td>0</td>\n",
              "    </tr>\n",
              "    <tr>\n",
              "      <th>2</th>\n",
              "      <td>2</td>\n",
              "      <td>2019-01-01 00:00:51</td>\n",
              "      <td>38859492057661</td>\n",
              "      <td>fraud_Lind-Buckridge</td>\n",
              "      <td>entertainment</td>\n",
              "      <td>220.11</td>\n",
              "      <td>Edward</td>\n",
              "      <td>Sanchez</td>\n",
              "      <td>M</td>\n",
              "      <td>594 White Dale Suite 530</td>\n",
              "      <td>Malad City</td>\n",
              "      <td>ID</td>\n",
              "      <td>83252</td>\n",
              "      <td>42.1808</td>\n",
              "      <td>-112.2620</td>\n",
              "      <td>4154</td>\n",
              "      <td>Nature conservation officer</td>\n",
              "      <td>1962-01-19 00:00:00</td>\n",
              "      <td>a1a22d70485983eac12b5b88dad1cf95</td>\n",
              "      <td>1325376051</td>\n",
              "      <td>43.150704</td>\n",
              "      <td>-112.154481</td>\n",
              "      <td>0</td>\n",
              "      <td>Tuesday</td>\n",
              "      <td>2019-01</td>\n",
              "      <td>57.0</td>\n",
              "      <td>0</td>\n",
              "      <td>0</td>\n",
              "      <td>0</td>\n",
              "      <td>0</td>\n",
              "      <td>0</td>\n",
              "      <td>0</td>\n",
              "      <td>0</td>\n",
              "      <td>0</td>\n",
              "      <td>0</td>\n",
              "      <td>0</td>\n",
              "      <td>0</td>\n",
              "      <td>0</td>\n",
              "      <td>0</td>\n",
              "      <td>1</td>\n",
              "      <td>0</td>\n",
              "      <td>0</td>\n",
              "      <td>0</td>\n",
              "      <td>0</td>\n",
              "      <td>1</td>\n",
              "      <td>0</td>\n",
              "      <td>5265.935520</td>\n",
              "      <td>1</td>\n",
              "      <td>2019-01-01</td>\n",
              "      <td>8.0</td>\n",
              "      <td>377.925000</td>\n",
              "      <td>5.0</td>\n",
              "      <td>0.0</td>\n",
              "      <td>0.0</td>\n",
              "      <td>0</td>\n",
              "    </tr>\n",
              "    <tr>\n",
              "      <th>3</th>\n",
              "      <td>3</td>\n",
              "      <td>2019-01-01 00:01:16</td>\n",
              "      <td>3534093764340240</td>\n",
              "      <td>fraud_Kutch, Hermiston and Farrell</td>\n",
              "      <td>gas_transport</td>\n",
              "      <td>45.00</td>\n",
              "      <td>Jeremy</td>\n",
              "      <td>White</td>\n",
              "      <td>M</td>\n",
              "      <td>9443 Cynthia Court Apt. 038</td>\n",
              "      <td>Boulder</td>\n",
              "      <td>MT</td>\n",
              "      <td>59632</td>\n",
              "      <td>46.2306</td>\n",
              "      <td>-112.1138</td>\n",
              "      <td>1939</td>\n",
              "      <td>Patent attorney</td>\n",
              "      <td>1967-01-12 00:00:00</td>\n",
              "      <td>6b849c168bdad6f867558c3793159a81</td>\n",
              "      <td>1325376076</td>\n",
              "      <td>47.034331</td>\n",
              "      <td>-112.561071</td>\n",
              "      <td>0</td>\n",
              "      <td>Tuesday</td>\n",
              "      <td>2019-01</td>\n",
              "      <td>52.0</td>\n",
              "      <td>0</td>\n",
              "      <td>1</td>\n",
              "      <td>0</td>\n",
              "      <td>0</td>\n",
              "      <td>0</td>\n",
              "      <td>0</td>\n",
              "      <td>0</td>\n",
              "      <td>0</td>\n",
              "      <td>0</td>\n",
              "      <td>0</td>\n",
              "      <td>0</td>\n",
              "      <td>0</td>\n",
              "      <td>0</td>\n",
              "      <td>1</td>\n",
              "      <td>0</td>\n",
              "      <td>0</td>\n",
              "      <td>0</td>\n",
              "      <td>0</td>\n",
              "      <td>1</td>\n",
              "      <td>0</td>\n",
              "      <td>5377.625588</td>\n",
              "      <td>1</td>\n",
              "      <td>2019-01-01</td>\n",
              "      <td>1.0</td>\n",
              "      <td>45.000000</td>\n",
              "      <td>5.0</td>\n",
              "      <td>0.0</td>\n",
              "      <td>0.0</td>\n",
              "      <td>0</td>\n",
              "    </tr>\n",
              "    <tr>\n",
              "      <th>4</th>\n",
              "      <td>4</td>\n",
              "      <td>2019-01-01 00:03:06</td>\n",
              "      <td>375534208663984</td>\n",
              "      <td>fraud_Keeling-Crist</td>\n",
              "      <td>misc_pos</td>\n",
              "      <td>41.96</td>\n",
              "      <td>Tyler</td>\n",
              "      <td>Garcia</td>\n",
              "      <td>M</td>\n",
              "      <td>408 Bradley Rest</td>\n",
              "      <td>Doe Hill</td>\n",
              "      <td>VA</td>\n",
              "      <td>24433</td>\n",
              "      <td>38.4207</td>\n",
              "      <td>-79.4629</td>\n",
              "      <td>99</td>\n",
              "      <td>Dance movement psychotherapist</td>\n",
              "      <td>1986-03-28 00:00:00</td>\n",
              "      <td>a41d7549acf90789359a9aa5346dcb46</td>\n",
              "      <td>1325376186</td>\n",
              "      <td>38.674999</td>\n",
              "      <td>-78.632459</td>\n",
              "      <td>0</td>\n",
              "      <td>Tuesday</td>\n",
              "      <td>2019-01</td>\n",
              "      <td>33.0</td>\n",
              "      <td>0</td>\n",
              "      <td>0</td>\n",
              "      <td>0</td>\n",
              "      <td>0</td>\n",
              "      <td>0</td>\n",
              "      <td>0</td>\n",
              "      <td>0</td>\n",
              "      <td>0</td>\n",
              "      <td>1</td>\n",
              "      <td>0</td>\n",
              "      <td>0</td>\n",
              "      <td>0</td>\n",
              "      <td>0</td>\n",
              "      <td>1</td>\n",
              "      <td>0</td>\n",
              "      <td>0</td>\n",
              "      <td>0</td>\n",
              "      <td>0</td>\n",
              "      <td>1</td>\n",
              "      <td>0</td>\n",
              "      <td>5833.347119</td>\n",
              "      <td>1</td>\n",
              "      <td>2019-01-01</td>\n",
              "      <td>1.0</td>\n",
              "      <td>41.960000</td>\n",
              "      <td>6.0</td>\n",
              "      <td>0.0</td>\n",
              "      <td>0.0</td>\n",
              "      <td>0</td>\n",
              "    </tr>\n",
              "  </tbody>\n",
              "</table>\n",
              "</div>"
            ],
            "text/plain": [
              "   Unnamed: 0 trans_date_trans_time  ...  hist_trans_of_2H trans_hour\n",
              "0           0   2019-01-01 00:00:18  ...               0.0          0\n",
              "1           1   2019-01-01 00:00:44  ...               0.0          0\n",
              "2           2   2019-01-01 00:00:51  ...               0.0          0\n",
              "3           3   2019-01-01 00:01:16  ...               0.0          0\n",
              "4           4   2019-01-01 00:03:06  ...               0.0          0\n",
              "\n",
              "[5 rows x 55 columns]"
            ]
          },
          "metadata": {
            "tags": []
          },
          "execution_count": 22
        }
      ]
    },
    {
      "cell_type": "markdown",
      "metadata": {
        "id": "z7f6Lpv572nk"
      },
      "source": [
        "# Loading Test Data"
      ]
    },
    {
      "cell_type": "code",
      "metadata": {
        "id": "RNOsVCop2qU7"
      },
      "source": [
        "df_concat_test = pd.read_csv('/content/gdrive/MyDrive/Transaction data/Copy of preprocessed_Testdata.csv')"
      ],
      "execution_count": null,
      "outputs": []
    },
    {
      "cell_type": "markdown",
      "metadata": {
        "id": "U16EQXzU8Ldb"
      },
      "source": [
        "# test and train Dataset"
      ]
    },
    {
      "cell_type": "code",
      "metadata": {
        "id": "ueVTY5Qt2qYz"
      },
      "source": [
        "data_train = df_concat[cols]"
      ],
      "execution_count": null,
      "outputs": []
    },
    {
      "cell_type": "code",
      "metadata": {
        "id": "wN6Fkr542qcp"
      },
      "source": [
        "data_test = df_concat_test[cols]"
      ],
      "execution_count": null,
      "outputs": []
    },
    {
      "cell_type": "code",
      "metadata": {
        "id": "E7o3GPiT2qgU"
      },
      "source": [
        "X_train,y_train = data_train.drop('is_fraud',1),data_train['is_fraud']"
      ],
      "execution_count": null,
      "outputs": []
    },
    {
      "cell_type": "code",
      "metadata": {
        "id": "W0x3VGOQ2qjm"
      },
      "source": [
        "X_test,y_test = data_test.drop('is_fraud',1),data_test['is_fraud']"
      ],
      "execution_count": null,
      "outputs": []
    },
    {
      "cell_type": "code",
      "metadata": {
        "colab": {
          "base_uri": "https://localhost:8080/"
        },
        "id": "KbuptW9B2qpb",
        "outputId": "65b98498-cc83-4566-c09f-cee612e90f47"
      },
      "source": [
        "X_test.dtypes"
      ],
      "execution_count": null,
      "outputs": [
        {
          "output_type": "execute_result",
          "data": {
            "text/plain": [
              "amt                          float64\n",
              "city_pop                       int64\n",
              "trans_hour                     int64\n",
              "age                          float64\n",
              "category_food_dining           int64\n",
              "category_gas_transport         int64\n",
              "category_grocery_net           int64\n",
              "category_grocery_pos           int64\n",
              "category_health_fitness        int64\n",
              "category_home                  int64\n",
              "category_kids_pets             int64\n",
              "category_misc_net              int64\n",
              "category_misc_pos              int64\n",
              "category_personal_care         int64\n",
              "category_shopping_net          int64\n",
              "category_shopping_pos          int64\n",
              "category_travel                int64\n",
              "gender_M                       int64\n",
              "week_day_Monday                int64\n",
              "week_day_Saturday              int64\n",
              "week_day_Sunday                int64\n",
              "week_day_Thursday              int64\n",
              "week_day_Tuesday               int64\n",
              "dist                         float64\n",
              "hist_trans_of_60d            float64\n",
              "hist_trans_of_60d_amt_avg    float64\n",
              "hist_trans_of_24H            float64\n",
              "hist_trans_of_24H_fraud      float64\n",
              "dtype: object"
            ]
          },
          "metadata": {
            "tags": []
          },
          "execution_count": 49
        }
      ]
    },
    {
      "cell_type": "markdown",
      "metadata": {
        "id": "tCAzwmkc_4_C"
      },
      "source": [
        "# Scaling the data"
      ]
    },
    {
      "cell_type": "code",
      "metadata": {
        "id": "SmDayDqK_8mh"
      },
      "source": [
        "scaler= StandardScaler()"
      ],
      "execution_count": null,
      "outputs": []
    },
    {
      "cell_type": "code",
      "metadata": {
        "id": "J0TP4gbP_9GP"
      },
      "source": [
        "X_train,X_test = scaler.fit_transform(X_train),scaler.transform(X_test)"
      ],
      "execution_count": null,
      "outputs": []
    },
    {
      "cell_type": "code",
      "metadata": {
        "colab": {
          "base_uri": "https://localhost:8080/"
        },
        "id": "PQiOZlFE_82d",
        "outputId": "b962b8e6-974b-428c-bf40-b796e4c7c92c"
      },
      "source": [
        "joblib.dump(scaler,'/content/scaler.pkl') #saving the scaler model"
      ],
      "execution_count": null,
      "outputs": [
        {
          "output_type": "execute_result",
          "data": {
            "text/plain": [
              "['/content/scaler.pkl']"
            ]
          },
          "metadata": {
            "tags": []
          },
          "execution_count": 61
        }
      ]
    },
    {
      "cell_type": "markdown",
      "metadata": {
        "id": "gbC-SvBI9e89"
      },
      "source": [
        "# Making Model"
      ]
    },
    {
      "cell_type": "code",
      "metadata": {
        "id": "3cAmgWFz9ejk"
      },
      "source": [
        "logreg  = LogisticRegression(C=0.01,penalty='l2',solver='liblinear')"
      ],
      "execution_count": null,
      "outputs": []
    },
    {
      "cell_type": "code",
      "metadata": {
        "colab": {
          "base_uri": "https://localhost:8080/"
        },
        "id": "8p5kjar-9pWj",
        "outputId": "e629671e-a352-416f-bfaa-d2953f8ef82b"
      },
      "source": [
        "logreg.fit(X_train,y_train)"
      ],
      "execution_count": null,
      "outputs": [
        {
          "output_type": "execute_result",
          "data": {
            "text/plain": [
              "LogisticRegression(C=0.01, class_weight=None, dual=False, fit_intercept=True,\n",
              "                   intercept_scaling=1, l1_ratio=None, max_iter=100,\n",
              "                   multi_class='auto', n_jobs=None, penalty='l2',\n",
              "                   random_state=None, solver='liblinear', tol=0.0001, verbose=0,\n",
              "                   warm_start=False)"
            ]
          },
          "metadata": {
            "tags": []
          },
          "execution_count": 53
        }
      ]
    },
    {
      "cell_type": "code",
      "metadata": {
        "id": "UWKZVYYp9pxS"
      },
      "source": [
        "y_pred = logreg.predict(X_test)"
      ],
      "execution_count": null,
      "outputs": []
    },
    {
      "cell_type": "code",
      "metadata": {
        "colab": {
          "base_uri": "https://localhost:8080/"
        },
        "id": "LTlZyoIi9p0z",
        "outputId": "cd445725-a1df-4c40-a732-68e3d1b096c9"
      },
      "source": [
        "print(classification_report(y_test,y_pred))"
      ],
      "execution_count": null,
      "outputs": [
        {
          "output_type": "stream",
          "text": [
            "              precision    recall  f1-score   support\n",
            "\n",
            "           0       1.00      1.00      1.00    553622\n",
            "           1       0.99      0.82      0.90      2145\n",
            "\n",
            "    accuracy                           1.00    555767\n",
            "   macro avg       1.00      0.91      0.95    555767\n",
            "weighted avg       1.00      1.00      1.00    555767\n",
            "\n"
          ],
          "name": "stdout"
        }
      ]
    },
    {
      "cell_type": "code",
      "metadata": {
        "colab": {
          "base_uri": "https://localhost:8080/"
        },
        "id": "nVJwaC6-9p4Z",
        "outputId": "1f6bba22-8ab2-4ae7-b906-6801b52decff"
      },
      "source": [
        "confusion_matrixy_test)"
      ],
      "execution_count": null,
      "outputs": [
        {
          "output_type": "execute_result",
          "data": {
            "text/plain": [
              "array([[553612,    384],\n",
              "       [    10,   1761]])"
            ]
          },
          "metadata": {
            "tags": []
          },
          "execution_count": 56
        }
      ]
    },
    {
      "cell_type": "code",
      "metadata": {
        "id": "DsXoAdPn9p7U"
      },
      "source": [
        ""
      ],
      "execution_count": null,
      "outputs": []
    },
    {
      "cell_type": "code",
      "metadata": {
        "id": "KE6ykPHJDMcQ"
      },
      "source": [
        ""
      ],
      "execution_count": null,
      "outputs": []
    },
    {
      "cell_type": "markdown",
      "metadata": {
        "id": "jXE0qHRsDNIR"
      },
      "source": [
        ""
      ]
    }
  ]
}